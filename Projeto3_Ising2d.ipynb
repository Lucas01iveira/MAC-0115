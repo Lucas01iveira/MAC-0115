{
  "nbformat": 4,
  "nbformat_minor": 0,
  "metadata": {
    "colab": {
      "name": "Projeto3_Ising2d.ipynb",
      "provenance": [],
      "collapsed_sections": [
        "7NsC_l3mjna3",
        "ICnLYWeAjvx-",
        "U7BvJdlskef3",
        "zvNLsVMpkqD-",
        "JSspiDr3qn6P"
      ],
      "include_colab_link": true
    },
    "kernelspec": {
      "name": "python3",
      "display_name": "Python 3"
    },
    "language_info": {
      "name": "python"
    }
  },
  "cells": [
    {
      "cell_type": "markdown",
      "metadata": {
        "id": "view-in-github",
        "colab_type": "text"
      },
      "source": [
        "<a href=\"https://colab.research.google.com/github/Lucas01iveira/MAC-0115/blob/main/Projeto3_Ising2d.ipynb\" target=\"_parent\"><img src=\"https://colab.research.google.com/assets/colab-badge.svg\" alt=\"Open In Colab\"/></a>"
      ]
    },
    {
      "cell_type": "code",
      "source": [
        "import numpy as np \n",
        "import matplotlib.pyplot as plt\n",
        "import imageio\n",
        "import os"
      ],
      "metadata": {
        "id": "lrBFn7h6j1OP"
      },
      "execution_count": 1,
      "outputs": []
    },
    {
      "cell_type": "code",
      "source": [
        "from google.colab import files \n",
        "!rm *"
      ],
      "metadata": {
        "id": "ZLzFEIvLIZRX",
        "outputId": "48d7eb8f-e243-440c-e212-b66ab70437b3",
        "colab": {
          "base_uri": "https://localhost:8080/"
        }
      },
      "execution_count": 2,
      "outputs": [
        {
          "output_type": "stream",
          "name": "stdout",
          "text": [
            "rm: cannot remove 'sample_data': Is a directory\n"
          ]
        }
      ]
    },
    {
      "cell_type": "markdown",
      "source": [
        "# Definição das funções importantes do código\n",
        "  - Função (1): Cria um sistema numa malha 2d NxN\n",
        "  - Função (2): Plota a representação dessa malha no plano \n",
        "  (spin up -> quadradinho preto / spin down -> quadradinho branco)\n",
        "  - Função (3): Atualiza a matriz do sistema considerando o algoritmo de Metropolis\n",
        "  - Função (4): Calcula a magnetização do sistema\n",
        "  - Função (5): Apresenta a evolução do sistema (para um certo número de varreduras / iterações) através de um Gif"
      ],
      "metadata": {
        "id": "-HiP20yjxQFA"
      }
    },
    {
      "cell_type": "markdown",
      "source": [
        "###  Função (1): Cria um sistema numa malha 2d NxN"
      ],
      "metadata": {
        "id": "7NsC_l3mjna3"
      }
    },
    {
      "cell_type": "code",
      "execution_count": 3,
      "metadata": {
        "id": "ZTiMIOM8JNQu"
      },
      "outputs": [],
      "source": [
        "# Defino uma função que cria um sistema 2d de spins numa malha quadrada NxN\n",
        "\n",
        "def cria_sistema(N):\n",
        "  # -------------------------------------------------------------------------\n",
        "  # Parâmetros de entrada:\n",
        "    # - N: 'tamanho' do sistema\n",
        "\n",
        "  # Valores de saída:\n",
        "    # - M: matriz NxN com os spins aleatoriamente distribuídos no sistema\n",
        "  # -------------------------------------------------------------------------\n",
        "\n",
        "  M = [] # matriz M a ser preenchida\n",
        "\n",
        "  for i in range(N): # para cada linha\n",
        "    vec_spins = [] # define um vetor auxiliar de preenchimento\n",
        "\n",
        "    for j in range(N): # para cada coluna \n",
        "      aux = np.random.uniform(0,1) # sorteia um número entre 0 e 1\n",
        "      if aux > 1/2: # se for maior que 1/2\n",
        "        vec_spins.append(+1) # inclui, na coluna 'j', o spin +1\n",
        "      else: # caso contrário\n",
        "        vec_spins.append(-1) # inclui, na coluna 'j', o spin -1\n",
        "\n",
        "    # ao final do preenchimento de cada coluna, acrescenta o vetor vec_spins na linha 'i' de M\n",
        "    M.append(vec_spins) \n",
        "\n",
        "  return M"
      ]
    },
    {
      "cell_type": "code",
      "source": [
        "# (teste de funcionamento) - Okay!\n",
        "sist = cria_sistema(3)\n",
        "for i in sist:\n",
        "  print(i)"
      ],
      "metadata": {
        "colab": {
          "base_uri": "https://localhost:8080/"
        },
        "id": "wazO7EuwkrPp",
        "outputId": "b3deeaf7-0ea4-4c0a-fa79-59f6786ef6e9"
      },
      "execution_count": 4,
      "outputs": [
        {
          "output_type": "stream",
          "name": "stdout",
          "text": [
            "[1, -1, 1]\n",
            "[1, 1, 1]\n",
            "[-1, -1, 1]\n"
          ]
        }
      ]
    },
    {
      "cell_type": "markdown",
      "source": [
        "### Função (2): Plota a representação dessa malha no plano \n",
        "  (spin up -> quadradinho preto / spin down -> quadradinho branco)"
      ],
      "metadata": {
        "id": "ICnLYWeAjvx-"
      }
    },
    {
      "cell_type": "code",
      "source": [
        "# Defino uma função que apresenta o sistema de spins em uma representação bidimensional\n",
        "  \n",
        "# Obs.: no caso dessa figura a correspondência entre a matriz de spins do sistema e o plot \n",
        "# está na ordem correta. (a função imshow já faz isso automaticamente!!!)\n",
        "\n",
        "def cria_figura(M):\n",
        "\n",
        "  # -------------------------------------------------------------------------\n",
        "  # Parâmetros de entrada:\n",
        "    # - M: matriz do sistema de spins\n",
        "\n",
        "  # Valores de saída:\n",
        "    # - Figura quadriculada representando os spins/dipolos up e down do sistema.\n",
        "    # (quadradinho preto -> spin up   )\n",
        "    # (quadradinho branco -> spin down)\n",
        "\n",
        "  # -------------------------------------------------------------------------\n",
        "  \n",
        "  ax = plt.figure(figsize=(10,7))\n",
        "  M_size = len(M) # tamanho do sistema\n",
        "\n",
        "  # inclui explicitamente as divisões associadas ao \"espaço\" de cada spin\n",
        "\n",
        "  for i in range(M_size):\n",
        "    if i < M_size-1:\n",
        "      ax = plt.axhline(i+0.5, color='black')\n",
        "      ax = plt.axvline(i+0.5, color='black')\n",
        "\n",
        "  # Utiliza a função 'imshow' para apresentar os spins do sistema.\n",
        "  # Há alguns casos específicos para os quais o 'colormap'\n",
        "  # deve ser definido de maneira individualizada para manter a coerência\n",
        "  # da convenção de cores definida\n",
        "\n",
        "  conta_elementos = 0\n",
        "  for i in range(M_size):\n",
        "    for j in range(M_size):\n",
        "      conta_elementos += M[i][j]\n",
        "\n",
        "  if conta_elementos == M_size*M_size:\n",
        "    # se todos os elementos forem iguais a +1, então a contagem deve ser igual à \n",
        "    # quantidade de termos da matriz (M_size*M_size)\n",
        "    ax = plt.imshow(M, cmap='gray') # (cmap = 'gray' já começa na cor preta)\n",
        "\n",
        "  elif conta_elementos == - M_size*M_size:\n",
        "    # se todos os elementos forem iguais a -1, então a contagem deve ser igual à \n",
        "    # (-) a quantidade de termos da matriz (ou seja, - M_size*M_size)\n",
        "    ax = plt.imshow(M, cmap='binary') # (cmap = 'binary' já começa na cor branca) \n",
        "  \n",
        "  else:\n",
        "    # se a contagem não for igual a M_size*M_size nem a M_size*M_size, então\n",
        "    # quer dizer que o sistema tem uma quantidade variada de spins \n",
        "\n",
        "    ax = plt.imshow(M, cmap='binary')\n",
        "    # nesse caso há termos -1 e +1, então o cmap = 'binary' já dará conta de ajustar\n",
        "    # as cores adequadamente\n",
        "\n",
        "  plt.tick_params(left = False, bottom = False, labelleft = False, labelbottom = False)\n"
      ],
      "metadata": {
        "id": "9_SKOaeW5B3G"
      },
      "execution_count": 5,
      "outputs": []
    },
    {
      "cell_type": "code",
      "source": [
        "# (teste de funcionamento) - Okay!\n",
        "for i in sist:\n",
        "  print(i)\n",
        "cria_figura(sist)"
      ],
      "metadata": {
        "colab": {
          "base_uri": "https://localhost:8080/",
          "height": 0
        },
        "id": "fk71IzAx4uBO",
        "outputId": "56f8f4ea-082e-4e52-dcd9-9fe8957f156f"
      },
      "execution_count": 6,
      "outputs": [
        {
          "output_type": "stream",
          "name": "stdout",
          "text": [
            "[1, -1, 1]\n",
            "[1, 1, 1]\n",
            "[-1, -1, 1]\n"
          ]
        },
        {
          "output_type": "display_data",
          "data": {
            "text/plain": [
              "<Figure size 720x504 with 1 Axes>"
            ],
            "image/png": "[encoded data removed]"
          },
          "metadata": {}
        }
      ]
    },
    {
      "cell_type": "markdown",
      "source": [
        "### Função (3): Atualiza a matriz do sistema considerando o algoritmo de Metropolis"
      ],
      "metadata": {
        "id": "U7BvJdlskef3"
      }
    },
    {
      "cell_type": "markdown",
      "source": [
        "- Antes de definir a função de atualização da matriz de spins do sistema com base no algoritmo de Metrópolis, defino duas funções auxiliares:\n",
        "  - Cálculo da energia com base no Hamiltoniano de Ising\n",
        "  - Cálculo da variação de energia com base nas contas manuais (supondo um flip no spin da posição (k,m)\n",
        "  $$ \\Delta E = 2\\cdot \\sigma_{km} \\cdot \\{ \\epsilon \\cdot [\\sigma_{k(m+1)} + \\sigma_{k(m-1)} + \\sigma_{(k-1)m} + \\sigma_{(k+1)m} ]  + h \\}$$\n",
        "  - Verificação da possibilidade do flip"
      ],
      "metadata": {
        "id": "rR9adepg9wT6"
      }
    },
    {
      "cell_type": "code",
      "source": [
        "# Defino uma função que calcula a energia do sistema com base no modelo do Hamiltoniano de Ising\n",
        "\n",
        "def calcula_E(eps, h, M):\n",
        "  # -------------------------------------------------------------------------\n",
        "\n",
        "  # Parâmetros de entrada:\n",
        "    # - eps: parâmetro de energia do hamiltoniano\n",
        "    # - h: parâmetro de campo magnético\n",
        "    # - M: matriz de spins do sistema\n",
        "\n",
        "  # !!! UNIDADES ESPECIAIS TAIS QUE KB = 1 !!! # \n",
        "\n",
        "  # Valores de saída: \n",
        "    # - E: energia do sistema\n",
        "\n",
        "  # -------------------------------------------------------------------------\n",
        "\n",
        "  M_size = len(M) # tamanho do sistema\n",
        "\n",
        "  # soma associada ao termo de energia (propriamente dita)\n",
        "  soma_1 = 0 \n",
        "\n",
        "  # Cuida inicialmente das bordas problemáticas\n",
        "  # 0) Último termo (i = M_size-1, j = M_size-1)\n",
        "  i = M_size-1\n",
        "  j = M_size-1\n",
        "  soma_1 += M[i][j]*M[i][0] + M[i][j]*M[i][j-1] + M[i][j]*M[i-1][j] + M[i][j]*M[0][j]\n",
        "  # lógica: # direita / esquerda / cima / baixo\n",
        "\n",
        "\n",
        "  # 1) Última coluna (j = M_size-1)\n",
        "  j = M_size-1 \n",
        "  for i in range(M_size-1): # range até M_size-1 porque o último elemento de M já foi considerado\n",
        "    soma_1 += M[i][j]*M[i][0] + M[i][j]*M[i][j-1] + M[i][j]*M[i-1][j] + M[i][j]*M[i+1][j]\n",
        "    # lógica: # direita / esquerda / cima / baixo\n",
        "\n",
        "  # 2) Última linha (i = M_size-1)\n",
        "  i = M_size-1\n",
        "  for j in range(M_size-1): # range até M_size-1 porque o último elemento de M já foi considerado\n",
        "    soma_1 += M[i][j]*M[i][j+1] + M[i][j]*M[i][j-1] + M[i][j]*M[i-1][j] + M[i][j]*M[0][j]\n",
        "    # lógica: # direita / esquerda / cima / baixo\n",
        "  \n",
        "  # Faz um loop para acrescentar os termos correspondentes ao interior da matriz de spins do sistema\n",
        "  # (range até M_size-1 por que a última linha e a última coluna já foram contabilizadas)\n",
        "  for i in range(M_size-1):\n",
        "    for j in range(M_size-1):\n",
        "      soma_1 += M[i][j]*M[i][j+1] + M[i][j]*M[i][j-1] + M[i][j]*M[i-1][j] + M[i][j]*M[i+1][j]\n",
        "      # direita / esquerda / cima / baixo\n",
        "  \n",
        "    \n",
        "  # --------------------------------------------------------------------------\n",
        "  \n",
        "  # soma associada ao termo de campo magnético\n",
        "  # (soma sobre todos os spins do sistema)\n",
        "  soma_2 = 0 \n",
        "\n",
        "  for i in range(M_size): # para cada linha\n",
        "    for j in range(M_size): # para cada coluna\n",
        "      soma_2 += M[i][j] # acrescenta o valor do spin[i][j] na soma\n",
        "  \n",
        "  # --------------------------------------------------------------------------\n",
        "\n",
        "  # Calcula a energia e retorna a função\n",
        "  E = - eps*soma_1 - h*soma_2\n",
        "\n",
        "  return E"
      ],
      "metadata": {
        "id": "EMnRmwXN-BA9"
      },
      "execution_count": 7,
      "outputs": []
    },
    {
      "cell_type": "code",
      "source": [
        "# (teste de funcionamento) - Okay!\n",
        "A = cria_sistema(2)\n",
        "for i in A:\n",
        "  print(i)\n",
        "calcula_E(1,0,A)"
      ],
      "metadata": {
        "colab": {
          "base_uri": "https://localhost:8080/"
        },
        "id": "EDmiL6Z9Nne9",
        "outputId": "10acdfdf-4d89-4762-9edf-86ece084d27c"
      },
      "execution_count": 8,
      "outputs": [
        {
          "output_type": "stream",
          "name": "stdout",
          "text": [
            "[1, 1]\n",
            "[-1, 1]\n"
          ]
        },
        {
          "output_type": "execute_result",
          "data": {
            "text/plain": [
              "0"
            ]
          },
          "metadata": {},
          "execution_count": 8
        }
      ]
    },
    {
      "cell_type": "code",
      "source": [
        "teste_m = [[1,1,1], [-1,1,1], [1,-1,1]]\n",
        "calcula_E(1,0,teste_m)"
      ],
      "metadata": {
        "colab": {
          "base_uri": "https://localhost:8080/"
        },
        "id": "JNm1Jtifs1zR",
        "outputId": "a03041a4-90e7-4c78-b322-dc0a8623d368"
      },
      "execution_count": 9,
      "outputs": [
        {
          "output_type": "execute_result",
          "data": {
            "text/plain": [
              "-4"
            ]
          },
          "metadata": {},
          "execution_count": 9
        }
      ]
    },
    {
      "cell_type": "code",
      "source": [
        "# defino uma função auxiliar que calcula a variação de energia do flip considerando\n",
        "# considerando o cálculo manual \n",
        "\n",
        "def calcula_DeltaE(eps, h, M, i_flip, j_flip):\n",
        "  # -------------------------------------------------------------------------\n",
        "\n",
        "  # Parâmetros de entrada:\n",
        "    # - M: matriz de spins do sistema\n",
        "    # - i_flip: linha do spin a ser alterado\n",
        "    # - j_flip: coluna do spin a ser alterado\n",
        "\n",
        "  # Valores de saída:\n",
        "    # - Variação de energia do flip correspondente\n",
        "\n",
        "  # -------------------------------------------------------------------------\n",
        "  #print(M)\n",
        "  #M_size = np.shape(M)[0]\n",
        "\n",
        "  M_size = len(M) # tamanho do sistema\n",
        "  \n",
        "  if i_flip == M_size-1: # verifica se está na última linha \n",
        "    if j_flip == M_size-1: # verifica se está no último termo\n",
        "      #Delta_E = 2*M[i_flip][j_flip]*( 2*eps*( M[i_flip][0] + M[i_flip][j_flip-1] + M[i_flip-1][j_flip] + M[0][j_flip]) + h )\n",
        "      Delta_E = 2*M[i_flip][j_flip]*( eps*( M[i_flip][0] + M[i_flip][j_flip-1] + M[i_flip-1][j_flip] + M[0][j_flip]) + h )\n",
        "\n",
        "    else: # se está na última linha, mas não no último termo,\n",
        "      #Delta_E = 2*M[i_flip][j_flip]*( 2*eps*( M[i_flip][j_flip+1] + M[i_flip][j_flip-1] + M[i_flip-1][j_flip] + M[0][j_flip]) + h )\n",
        "      Delta_E = 2*M[i_flip][j_flip]*( eps*( M[i_flip][j_flip+1] + M[i_flip][j_flip-1] + M[i_flip-1][j_flip] + M[0][j_flip]) + h )\n",
        "\n",
        "  else: # se não está na última linha\n",
        "    if j_flip == M_size-1: # verifica se está na última coluna\n",
        "      #Delta_E = 2*M[i_flip][j_flip]*( 2*eps*( M[i_flip][0] + M[i_flip][j_flip-1] + M[i_flip-1][j_flip] + M[i_flip+1][j_flip]) + h )\n",
        "      Delta_E = 2*M[i_flip][j_flip]*( eps*( M[i_flip][0] + M[i_flip][j_flip-1] + M[i_flip-1][j_flip] + M[i_flip+1][j_flip]) + h )\n",
        "\n",
        "    else: # se não está nem na última linha, nem na última coluna, atualiza normalmente\n",
        "      #Delta_E = 2*M[i_flip][j_flip]*( 2*eps*( M[i_flip][j_flip+1] + M[i_flip][j_flip-1] + M[i_flip-1][j_flip] + M[i_flip+1][j_flip]) + h)\n",
        "      Delta_E = 2*M[i_flip][j_flip]*( eps*( M[i_flip][j_flip+1] + M[i_flip][j_flip-1] + M[i_flip-1][j_flip] + M[i_flip+1][j_flip]) + h)\n",
        "\n",
        "  #print(Delta_E)\n",
        "  # Delta_E = Delta_E * (-1)\n",
        "  return Delta_E"
      ],
      "metadata": {
        "id": "NhUFvEsqWvvA"
      },
      "execution_count": 10,
      "outputs": []
    },
    {
      "cell_type": "code",
      "source": [
        "# (teste de funcionamento) - Okay!\n",
        "# TESTE FEITO EM OUTRO COLAB (ESTÁ TD CERTO)"
      ],
      "metadata": {
        "id": "ni8WTr_WhOo_"
      },
      "execution_count": 11,
      "outputs": []
    },
    {
      "cell_type": "code",
      "source": [
        "# Defino uma função que verifica se o spin da posição [i_flip, j_flip] pode ser flipado ou não\n",
        "# (é aqui que entra a essência do algoritmo de Metrópolis)\n",
        "\n",
        "def verifica_flip(T, i_flip, j_flip, eps, h, M):\n",
        "  # -------------------------------------------------------------------------\n",
        "\n",
        "  # Parâmetros de entrada\n",
        "    # - T: temperatura\n",
        "    # - i_flip: índice da linha \n",
        "    # - j_flip: índice da coluna\n",
        "    # - eps: parâmetro de energia do hamiltoniano\n",
        "    # - h: parâmetro de campo magnético\n",
        "    # - M: matriz de spins do sistema\n",
        "\n",
        "  # !!! UNIDADES ESPECIAIS TAIS QUE KB = 1 !!! # \n",
        "\n",
        "  # Valores de saída  \n",
        "    # - True: se o spin do sistema puder ser alterado\n",
        "    # - False: se o spin do sistema não puder ser alterado\n",
        "\n",
        "  # -------------------------------------------------------------------------\n",
        "\n",
        "  # Cálculo da variação de energia associada à alteração de um spin do sistema\n",
        "  Delta_E = calcula_DeltaE(eps, h, M, i_flip, j_flip)\n",
        "\n",
        "  if Delta_E < 0: # se a variação de energia for negativa, o flip pode ser efetuado\n",
        "    return True\n",
        "  else: # se não\n",
        "    # faço um sorteio e verifico a probabilidade do flip acontecer\n",
        "    r = np.random.uniform(0,1)\n",
        "    prob_flip = np.exp(-Delta_E/T)\n",
        "    \n",
        "    if r < prob_flip: # se o número sorteado 'estiver dentro da probabilidade do flip', o flip pode ser efetuado\n",
        "      return True\n",
        "    else: # caso contrário, o flip não pode ser efetuado\n",
        "      return False"
      ],
      "metadata": {
        "id": "B3OCn-5PS_df"
      },
      "execution_count": 12,
      "outputs": []
    },
    {
      "cell_type": "markdown",
      "source": [
        "- Defino a função de atualização da matriz de spins do sistema"
      ],
      "metadata": {
        "id": "tpY0fcp3pCiZ"
      }
    },
    {
      "cell_type": "code",
      "source": [
        "# Defino uma função que atualiza o sistema de spins e retorna uma nova matriz atualizada\n",
        "# (atualização efetuada com base no algoritmo de Metropolis)\n",
        "# LEMBRANDO QUE A ATUALIZAÇÃO PELO ALGORITMO DE METROPOLIS PEGA SPINS ALEATÓRIOS DO SISTEMA # \n",
        "# (faz isso até que tenham sido tomados todos)\n",
        "\n",
        "def atualiza_Metropolis(T, eps, h, M):\n",
        "  # -------------------------------------------------------------------------\n",
        "  \n",
        "  # Parâmetros de entrada:\n",
        "    # - eps: parâmetro de energia do hamiltoniano\n",
        "    # - h: parâmetro de campo magnético\n",
        "    # - M: matriz de spins do sistema\n",
        "\n",
        "  # Valores de saída:\n",
        "    # A função não retorna nenhuma saída, apenas altera (atualiza) os valores na matriz M fornecida \n",
        "\n",
        "  # -------------------------------------------------------------------------\n",
        "  M_size = len(M) # tamanho do sistema\n",
        "\n",
        "  # vetor auxiliar\n",
        "  aux1 = [] # guarda \"índices-linha\" sorteados de M\n",
        "\n",
        "  # inicia um loop para sortear linhas aleatórias da matriz M\n",
        "  while len(aux1) != M_size: \n",
        "    lin = np.random.randint(0,M_size) # sorteia o índice de uma linha qualquer\n",
        "\n",
        "    if lin not in aux1: # se o índice sorteado não está no vetor aux1, \n",
        "      aux1.append(lin) # guarda no vetor aux1\n",
        "\n",
        "      # Para cada linha sorteada, faz um sorteio dos spins contidos em todas as colunas\n",
        "      aux2 = [] # guarda \"índices-coluna\" sorteados de M\n",
        "\n",
        "      while len(aux2) != M_size:\n",
        "        col = np.random.randint(0,M_size) # sorteia o índice de uma coluna qualquer\n",
        "        if col not in aux2: # se o índice sorteado não está no vetor aux2\n",
        "          aux2.append(col) # guarda no vetor aux2\n",
        "\n",
        "          if verifica_flip(T, lin, col, eps, h, M) == True: # verifica a possibilidade do flip de spin\n",
        "            M[lin][col] = (-1)*M[lin][col]\n",
        "\n",
        "      # O loop é repetido até que todas as colunas da linha 'lin' tenham sido sorteadas\n",
        "  "
      ],
      "metadata": {
        "id": "bJBH1MCL9SJZ"
      },
      "execution_count": 13,
      "outputs": []
    },
    {
      "cell_type": "code",
      "source": [
        "# Função teste percorrendo a matriz de spins do sistema com base em vetores de\n",
        "# linhas/colunas embaralhadas (sugestão do Lauro)\n",
        "\n",
        "def TESTE_atualiza_Metropolis(T, eps, h, M):\n",
        "  M_size = len(M)\n",
        "  aux_linhas = np.arange(0, M_size, 1)\n",
        "  aux_colunas = np.arange(0, M_size, 1)\n",
        "\n",
        "  np.random.shuffle(aux_linhas) # embaralha o vetor de linhas\n",
        "  np.random.shuffle(aux_colunas) # embaralha o vetor de colunas\n",
        "\n",
        "  for i_flip in aux_linhas:\n",
        "    for j_flip in aux_colunas:\n",
        "      if verifica_flip(T, i_flip, j_flip, eps, h, M) == True:\n",
        "        M[i_flip][j_flip] = (-1)*M[i_flip][j_flip]\n",
        "  "
      ],
      "metadata": {
        "id": "ueoMuKAxNi7H"
      },
      "execution_count": 14,
      "outputs": []
    },
    {
      "cell_type": "code",
      "source": [
        "# (teste de funcionamento) - Okay!\n",
        "sist = cria_sistema(20)\n",
        "print('Sistema inicial:')\n",
        "cria_figura(sist)\n",
        "\n",
        "for i in range(50):\n",
        "  TESTE_atualiza_Metropolis(3,1,0,sist)\n",
        "print()\n",
        "\n",
        "print('Novo sistema:')\n",
        "cria_figura(sist)"
      ],
      "metadata": {
        "colab": {
          "base_uri": "https://localhost:8080/",
          "height": 0
        },
        "id": "REBhg9FLcZKd",
        "outputId": "5fb04d33-f547-420c-e628-08ad81a5f0b5"
      },
      "execution_count": 15,
      "outputs": [
        {
          "output_type": "stream",
          "name": "stdout",
          "text": [
            "Sistema inicial:\n",
            "\n",
            "Novo sistema:\n"
          ]
        },
        {
          "output_type": "display_data",
          "data": {
            "text/plain": [
              "<Figure size 720x504 with 1 Axes>"
            ],
            "image/png": "[encoded data removed]"
          },
          "metadata": {}
        },
        {
          "output_type": "display_data",
          "data": {
            "text/plain": [
              "<Figure size 720x504 with 1 Axes>"
            ],
            "image/png": "[encoded data removed]"
          },
          "metadata": {}
        }
      ]
    },
    {
      "cell_type": "markdown",
      "source": [
        "### Função (4): Calcula a magnetização do sistema"
      ],
      "metadata": {
        "id": "zvNLsVMpkqD-"
      }
    },
    {
      "cell_type": "code",
      "source": [
        "# Defino uma função para calcular a magnetização do sistema\n",
        "\n",
        "def calcula_Mag(M):\n",
        "  # -------------------------------------------------------------------------\n",
        "  # Parâmetros de entrada:\n",
        "    # - M: matriz de spins do sistema\n",
        "\n",
        "  # Valores de saída:\n",
        "    # - magnetização média do sistema (em módulo)\n",
        "  # -------------------------------------------------------------------------\n",
        "\n",
        "  #return np.abs(np.mean(M))\n",
        "  return np.mean(M)"
      ],
      "metadata": {
        "id": "BaK32jeYmDTz"
      },
      "execution_count": 16,
      "outputs": []
    },
    {
      "cell_type": "markdown",
      "source": [
        "### Função (5): Apresenta a evolução do sistema (para um certo número de varreduras / iterações) através de um Gif"
      ],
      "metadata": {
        "id": "h3PpAeqflEh2"
      }
    },
    {
      "cell_type": "markdown",
      "source": [
        "- Função recreativa\n",
        "  - Defino uma função que apresenta a atualização do sistema de maneira animada (como um gif)"
      ],
      "metadata": {
        "id": "SrQ4pmXFtZMC"
      }
    },
    {
      "cell_type": "code",
      "source": [
        "!rm *\n",
        "!rm -rf pasta_frames"
      ],
      "metadata": {
        "colab": {
          "base_uri": "https://localhost:8080/"
        },
        "id": "55RnEaqp4D40",
        "outputId": "824595bb-b7d5-4fd3-9d55-ca694a6f7457"
      },
      "execution_count": 17,
      "outputs": [
        {
          "output_type": "stream",
          "name": "stdout",
          "text": [
            "rm: cannot remove 'sample_data': Is a directory\n"
          ]
        }
      ]
    },
    {
      "cell_type": "code",
      "source": [
        "# Defino uma função para criar um gif mostrando a 'evolução temporal' de um determinado sistema de spins\n",
        "\n",
        "def cria_gif(T, eps, h, M, N_frames, Name):\n",
        "  # -------------------------------------------------------------------------\n",
        "  # Parâmetros de entrada\n",
        "    # - T: temperatura de equilíbrio do sistema\n",
        "    # - eps: constante de energia \n",
        "    # - h: parâmetro de campo magnético\n",
        "    # - M: matriz do sistema inicial \n",
        "    # - N_frames: número de frames desejado\n",
        "    # - Name: (str) nome do arquivo.gif\n",
        "\n",
        "  # Valores de saída:\n",
        "    # - Gif de evolução do sistema a cada iteração sobre o conjunto de spins\n",
        "  # -------------------------------------------------------------------------\n",
        "  M_size = len(M) # tamanho do sistema\n",
        "  filenames = [] # vetor auxiliar para guardar o nome das figuras que compõem cada frame do gif\n",
        "  ax = plt.figure(figsize=(9,6))\n",
        "  \n",
        "  !mkdir pasta_frames # crio um diretório dentro do colab para guardar as figuras de cada frame\n",
        "  for a in range(N_frames): # para cada frame\n",
        "    for i in range(5):\n",
        "      # Constrói a figura a ser apresentada (adaptado da função plota_sistema)\n",
        "\n",
        "      # ____________________________________________________________________________________\n",
        "      for i in range(M_size):\n",
        "        if i < M_size-1:\n",
        "          ax = plt.axhline(i+0.5, color='black')\n",
        "          ax = plt.axvline(i+0.5, color='black')\n",
        "\n",
        "      conta_elementos = 0\n",
        "      for l in range(M_size):\n",
        "        for c in range(M_size):\n",
        "          conta_elementos += M[l][c]\n",
        "\n",
        "      if conta_elementos == M_size*M_size:\n",
        "        ax = plt.imshow(M, cmap='gray') # (o cmap = 'gray' já começa na cor preta)\n",
        "      elif conta_elementos == - M_size*M_size:\n",
        "        ax = plt.imshow(M, cmap='binary') \n",
        "      else:\n",
        "        ax = plt.imshow(M, cmap='binary')\n",
        "\n",
        "      plt.tick_params(left = False, bottom = False, labelleft = False, labelbottom = False)\n",
        "      # ____________________________________________________________________________________\n",
        "\n",
        "      # construção dos frames do gif\n",
        "      filename = 'frame_{}.png'.format(a)\n",
        "      filenames.append(filename)\n",
        "\n",
        "      if a == N_frames-1: # se estiver no último frame do gif \n",
        "        for k in range(5):\n",
        "          filenames.append(filename) # acrescenta uma pausa maior\n",
        "\n",
        "      plt.savefig('pasta_frames/{}'.format(filename)) # salvo as figuras dentro do diretório criado\n",
        "      plt.close()\n",
        "\n",
        "    # Atualiza o sistema para construir o frame seguinte \n",
        "    if a < N_frames-1:\n",
        "      #atualiza_Metropolis(T, eps, h, M)\n",
        "      TESTE_atualiza_Metropolis(T, eps, h, M)\n",
        "\n",
        "  # Cria o gif \n",
        "  with imageio.get_writer('{}.gif'.format(Name), mode='I') as writer:\n",
        "    for filename in filenames:\n",
        "      image = imageio.imread('pasta_frames/{}'.format(filename))\n",
        "      writer.append_data(image)\n",
        "  \n",
        "  !rm -rf pasta_frames # deleto o diretório de figuras criado\n"
      ],
      "metadata": {
        "id": "76HLHMcTfc2P"
      },
      "execution_count": 18,
      "outputs": []
    },
    {
      "cell_type": "code",
      "source": [
        "# (teste de funcionamento) - Okay!\n",
        "A = cria_sistema(10)\n",
        "cria_figura(A)\n",
        "plt.show()\n",
        "\n",
        "#cria_gif(1,1,0,A,20,'teste1')\n",
        "\n",
        "#cria_figura(A)\n",
        "#plt.show()"
      ],
      "metadata": {
        "id": "cm-PxEKYomAd",
        "colab": {
          "base_uri": "https://localhost:8080/",
          "height": 411
        },
        "outputId": "030e75d2-ce05-412d-b0f3-feea43e94ede"
      },
      "execution_count": null,
      "outputs": [
        {
          "output_type": "display_data",
          "data": {
            "text/plain": [
              "<Figure size 720x504 with 1 Axes>"
            ],
            "image/png": "[encoded data removed]"
          },
          "metadata": {}
        }
      ]
    },
    {
      "cell_type": "markdown",
      "source": [
        "### Help!"
      ],
      "metadata": {
        "id": "JSspiDr3qn6P"
      }
    },
    {
      "cell_type": "code",
      "source": [
        "cria_sistema??"
      ],
      "metadata": {
        "id": "4EqIxFkMqu0-"
      },
      "execution_count": null,
      "outputs": []
    },
    {
      "cell_type": "code",
      "source": [
        "cria_figura??"
      ],
      "metadata": {
        "id": "Va6ydKnFqu0_"
      },
      "execution_count": null,
      "outputs": []
    },
    {
      "cell_type": "code",
      "source": [
        "atualiza_Metropolis??"
      ],
      "metadata": {
        "id": "vUJDoRXJqu0_"
      },
      "execution_count": null,
      "outputs": []
    },
    {
      "cell_type": "code",
      "source": [
        "calcula_Mag??"
      ],
      "metadata": {
        "id": "pDzeQ1xFqu1A"
      },
      "execution_count": null,
      "outputs": []
    },
    {
      "cell_type": "markdown",
      "source": [
        "## Análises solicitadas (Gregóriozada)\n",
        "  - Para h = 0 e J = 1, calcular a magnetização média de um sistema N=10 (10x10) (pelo menos) após 1000 varreduras em função da temperatura.\n",
        "    - Fazer alguns testes com N = 100 e N = 1000 para as mesmas temperaturas (verificar o que acontece com N -> inf)\n",
        "  - Falar (utilizando as figuras / i.e., graficamente) sobre a transição de fase: limite de alteração de comportamento Ferromagneto <-> Paramagneto e vice-versa (ou seja, quando um ferromagneto deixa de apresentar magnetização espontânea)\n",
        "  - Explicar por que a magnetização espontânea não acontece no caso 1d "
      ],
      "metadata": {
        "id": "nxNCF0-fiQp8"
      }
    },
    {
      "cell_type": "markdown",
      "source": [
        "- Como forma de verificar diretamente que os códigos estão funcionando da maneira correta, será feita uma verificação da solução analítica de Onsager para a magnetização espontânea do sistema no caso em que $h = 0$ (provada matematicamente algum tempo depois por C.N. Yang)\n",
        "\n",
        "$$\n",
        "M = (1 - [\\sinh(2\\beta \\epsilon_1) \\sinh(\\beta \\epsilon_2)]^{-2})^{\\frac{1}{8}}\n",
        "$$\n",
        "\n",
        "sendo $\\epsilon_1$ e $\\epsilon_2$ os parâmetros de interação entre spins para cada direção do sistema bidimensional e $\\beta = \\frac{1}{k_B T}$"
      ],
      "metadata": {
        "id": "-x_CZOCB_gqF"
      }
    },
    {
      "cell_type": "code",
      "source": [
        " # Plot da solução de Onsager\n",
        "T_plot = np.arange(0.5,3,0.02)\n",
        "eps = 1 # eps1 = eps2 = eps (assumindo isotropia)\n",
        "m_plot = (1 - (np.sinh(2*eps/T_plot) * np.sinh(2*eps/T_plot))**(-2) )**(1/8)\n",
        "\n",
        "ax = plt.figure(figsize=(9,6))\n",
        "plt.title('Curva de magnetização proposta por Onsager', fontsize=20)\n",
        "plt.ylabel(r'|$\\langle m \\rangle$|', fontsize=18)\n",
        "plt.yticks(fontsize=16)\n",
        "plt.xlabel(r'$T \\,[ u.c.]$', fontsize=18)\n",
        "plt.xticks(fontsize=16)\n",
        "\n",
        "plt.plot(T_plot, m_plot, linestyle='solid', color='black')\n",
        "plt.axvline(2/(np.log(1+np.sqrt(2))), linestyle='dashed', color='red', label=r'$T_c \\approx 2.27$')\n",
        "plt.legend(fontsize=14)\n",
        "\n",
        "plt.show()"
      ],
      "metadata": {
        "id": "I9M60kNECHH6",
        "colab": {
          "base_uri": "https://localhost:8080/",
          "height": 459
        },
        "outputId": "fb7e5418-1ff5-45ba-ff70-d56f929e37fb"
      },
      "execution_count": null,
      "outputs": [
        {
          "output_type": "stream",
          "name": "stderr",
          "text": [
            "/usr/local/lib/python3.7/dist-packages/ipykernel_launcher.py:4: RuntimeWarning: invalid value encountered in power\n",
            "  after removing the cwd from sys.path.\n"
          ]
        },
        {
          "output_type": "display_data",
          "data": {
            "text/plain": [
              "<Figure size 648x432 with 1 Axes>"
            ],
            "image/png": "[encoded data removed]"
          },
          "metadata": {
            "needs_background": "light"
          }
        }
      ]
    },
    {
      "cell_type": "markdown",
      "source": [
        "- Análise da transição de fase"
      ],
      "metadata": {
        "id": "zMfPfzFbI9-h"
      }
    },
    {
      "cell_type": "code",
      "source": [
        "# Caso h = 0 e epsilon = 1 \n",
        "\n",
        "T = np.arange(0.5,6,0.1) # vetor de temperaturas\n",
        "eps = 1 # parâmetro de energia\n",
        "h = 0 # parâmetro de campo magnético\n",
        "Nvar = 1000 # número de varreduras\n",
        "mag_mean = [] # vetor para armazenar a magnetização média final obtida para cada temperatura\n",
        "sist = cria_sistema(10) # define um sistema de spins 50x50\n",
        "#plota_sistema(sist)\n",
        "#plt.show()\n",
        "\n",
        "for i in range(len(T)): # para cada temperatura\n",
        "  sist_aux = np.copy(sist) # copia o sistema inicial de spins criado\n",
        "  #sist_aux = cria_sistema(15)\n",
        "  mag = [] # vetor para armazenar a magnetização do sistema para cada varredura\n",
        "\n",
        "  mag.append(calcula_Mag(sist_aux)) # calcula a magnetização inicial do sistema criado\n",
        "  for j in range(Nvar): # para cada varredura\n",
        "    #atualiza_Metropolis(T[i], eps, h, sist_aux)\n",
        "    TESTE_atualiza_Metropolis(T[i], eps, h, sist_aux) # atualiza o sistema\n",
        "    mag.append(calcula_Mag(sist_aux)) # calcula a magnetização e guarda\n",
        "\n",
        "  mag_mean.append(np.abs(np.mean(mag))) # armazena a magnetização média do sistema\n",
        "\n",
        "# Apresenta o gráfico correspondente\n",
        "ax = plt.figure(figsize=(9,6))\n",
        "ax = plt.scatter(T, mag_mean, color='black')\n",
        "plt.title('Magnetização média por sítio em função da temperatura ', fontsize=20)\n",
        "plt.ylabel(r'|$\\langle m \\rangle|$', fontsize=18)\n",
        "plt.xlabel('$T$ [u.c.]', fontsize=18)\n",
        "plt.axvline(x = 2.27, color='red',linestyle='dashed', label=r'$T_c \\approx 2.27$')\n",
        "plt.legend(fontsize=14)\n",
        "plt.xticks(fontsize=16)\n",
        "plt.yticks(fontsize=16)\n",
        "# plt.ylim(0,1.5)\n",
        "plt.show()"
      ],
      "metadata": {
        "id": "Up--BjMHx3Z3",
        "colab": {
          "base_uri": "https://localhost:8080/",
          "height": 425
        },
        "outputId": "aeb80208-d92b-4e44-ab21-24a60604a67e"
      },
      "execution_count": null,
      "outputs": [
        {
          "output_type": "display_data",
          "data": {
            "text/plain": [
              "<Figure size 648x432 with 1 Axes>"
            ],
            "image/png": "[encoded data removed]"
          },
          "metadata": {
            "needs_background": "light"
          }
        }
      ]
    },
    {
      "cell_type": "code",
      "source": [
        "'''\n",
        "sist = cria_sistema(10) # cria um sistema inicial\n",
        "eps = 1 # constante de energia \n",
        "h = 0 # campo magnético desligado\n",
        "Nvar = 100 # quantidade de iterações por simulação\n",
        "T = [1, 2, 3, 6, 9] # vetor de temperaturas\n",
        "\n",
        "print('Sistema inicial')\n",
        "cria_figura(sist)\n",
        "plt.show()\n",
        "print()\n",
        "print('-'*30)\n",
        "for i in range(len(T)):\n",
        "  sist_aux = np.copy(sist)\n",
        "\n",
        "  cria_gif(T[i], eps, h, sist_aux, Nvar, 'T={}'.format(T[i]))\n",
        "  # lembrando que a função cria_gif já atualiza diretamente a matriz fornecida \n",
        "  # (então de fato a sequência de frames apresentada no gif é a sequência de atualizações\n",
        "  # pela qual o sistema mesmo!)\n",
        "\n",
        "  #for j in range(Nvar):\n",
        "  #  TESTE_atualiza_Metropolis(T[i], eps, h, sist_aux)\n",
        "\n",
        "  print('T = {}'.format(T[i]))\n",
        "  cria_figura(sist_aux)\n",
        "  plt.show()\n",
        "  print()\n",
        "'''\n",
        "\n",
        "# Atenção! A sequência de códigos acima foi executada uma única vez para \n",
        "# salvar as configurações / gifs e utilizar no relatório. \n",
        "\n",
        "# Se executada novamente, serão obtidos novos sistemas de spins e sequências de atualização\n",
        "# distintas uma vez que o processo de flip de spins é randômico / probabilístico."
      ],
      "metadata": {
        "id": "tWhThcb3I_yF",
        "colab": {
          "base_uri": "https://localhost:8080/",
          "height": 1000
        },
        "outputId": "d74445bc-4865-475d-9df3-a7d4a9a1f7a7"
      },
      "execution_count": null,
      "outputs": [
        {
          "metadata": {
            "tags": null
          },
          "name": "stdout",
          "output_type": "stream",
          "text": [
            "Sistema inicial\n"
          ]
        },
        {
          "data": {
            "image/png": "[encoded data removed]",
            "text/plain": [
              "<Figure size 720x504 with 1 Axes>"
            ]
          },
          "metadata": {},
          "output_type": "display_data"
        },
        {
          "metadata": {
            "tags": null
          },
          "name": "stdout",
          "output_type": "stream",
          "text": [
            "\n",
            "------------------------------\n",
            "T = 1\n"
          ]
        },
        {
          "data": {
            "image/png": "[encoded data removed]",
            "text/plain": [
              "<Figure size 720x504 with 1 Axes>"
            ]
          },
          "metadata": {},
          "output_type": "display_data"
        },
        {
          "metadata": {
            "tags": null
          },
          "name": "stdout",
          "output_type": "stream",
          "text": [
            "\n",
            "T = 2\n"
          ]
        },
        {
          "data": {
            "image/png": "[encoded data removed]",
            "text/plain": [
              "<Figure size 720x504 with 1 Axes>"
            ]
          },
          "metadata": {},
          "output_type": "display_data"
        },
        {
          "metadata": {
            "tags": null
          },
          "name": "stdout",
          "output_type": "stream",
          "text": [
            "\n",
            "T = 3\n"
          ]
        },
        {
          "data": {
            "image/png": "[encoded data removed]",
            "text/plain": [
              "<Figure size 720x504 with 1 Axes>"
            ]
          },
          "metadata": {},
          "output_type": "display_data"
        },
        {
          "metadata": {
            "tags": null
          },
          "name": "stdout",
          "output_type": "stream",
          "text": [
            "\n",
            "T = 6\n"
          ]
        },
        {
          "data": {
            "image/png": "[encoded data removed]",
            "text/plain": [
              "<Figure size 720x504 with 1 Axes>"
            ]
          },
          "metadata": {},
          "output_type": "display_data"
        },
        {
          "output_type": "stream",
          "name": "stdout",
          "text": [
            "\n",
            "T = 9\n"
          ]
        },
        {
          "output_type": "display_data",
          "data": {
            "text/plain": [
              "<Figure size 720x504 with 1 Axes>"
            ],
            "image/png": "[encoded data removed]"
          },
          "metadata": {}
        },
        {
          "output_type": "stream",
          "name": "stdout",
          "text": [
            "\n"
          ]
        }
      ]
    },
    {
      "cell_type": "code",
      "source": [
        "'''A = cria_sistema(10)\n",
        "cria_figura(A)\n",
        "\n",
        "for i in range(1000):\n",
        "  TESTE_atualiza_Metropolis(0.2,1,0,A)\n",
        "\n",
        "cria_figura(A)\n",
        "print(calcula_mag(A))\n",
        "'''\n",
        "# Sequência de códigos rodada uma única vez "
      ],
      "metadata": {
        "colab": {
          "base_uri": "https://localhost:8080/",
          "height": 805
        },
        "id": "Mr3-XLYqZFwW",
        "outputId": "99a88250-8e4e-46dc-deb0-de688c8ccbcc"
      },
      "execution_count": null,
      "outputs": [
        {
          "output_type": "display_data",
          "data": {
            "text/plain": [
              "<Figure size 720x504 with 1 Axes>"
            ],
            "image/png": "[encoded data removed]"
          },
          "metadata": {}
        },
        {
          "output_type": "display_data",
          "data": {
            "text/plain": [
              "<Figure size 720x504 with 1 Axes>"
            ],
            "image/png": "[encoded data removed]"
          },
          "metadata": {}
        }
      ]
    },
    {
      "cell_type": "code",
      "source": [
        "# efeito do tamanho do sistema\n",
        "\n",
        "T = np.arange(0.5,6,0.1) # vetor de temperaturas\n",
        "eps = 1 # parâmetro de energia\n",
        "h = 0 # parâmetro de campo magnético\n",
        "Nvar = 1000 # número de varreduras (pela metade para ganhar +tempo)\n",
        "N = [5, 10 ,15, 30] # vetor de 'tamanhos' da matriz de spins\n",
        "\n",
        "ax = plt.figure(figsize=(9,6))\n",
        "markers = ['o', '^', '*', 's']\n",
        "colors = ['blue', 'red', 'green', 'orange']\n",
        "\n",
        "\n",
        "for i in range (len(N)): # para cada tamanho de sistema\n",
        "  sist = cria_sistema(N[i]) # defino um sistema randômico de spins\n",
        "  mag_mean = [] # vetor para armazenar a magnetização media final obtida para cada temperatura\n",
        "\n",
        "  for j in range(len(T)): # para cada temperatura\n",
        "    sist_aux = np.copy(sist) # crio uma cópia do sistema formado\n",
        "    mag = [] # vetor para armazenar a magnétização por sítio de cada iteração\n",
        "\n",
        "    mag.append(calcula_Mag(sist_aux)) # calcula a primeira magnetização por sítio\n",
        "    for k in range(Nvar):\n",
        "      TESTE_atualiza_Metropolis(T[j], eps, h, sist_aux) # atualizo a matriz de spins\n",
        "      mag.append(calcula_Mag(sist_aux)) # calcula a magnetização por sítio\n",
        "    \n",
        "    mag_mean.append(np.abs(np.mean(mag))) # calcula a magnetização média total para a temperatura em questão\n",
        "  \n",
        "  ax = plt.scatter(T, mag_mean, linestyle='solid', marker=markers[i], label = 'N = {}'.format(N[i]) , color=colors[i], linewidth = 1.5)\n",
        "\n",
        "plt.title('Magnetização média por sítio em função da temperatura ', fontsize=20)\n",
        "plt.ylabel(r'$\\langle |m| \\rangle$', fontsize=18)\n",
        "plt.xlabel('$T$ [u.c.]', fontsize=18)\n",
        "plt.axvline(x = 2.27, color='red',linestyle='dashed', label=r'$T_c \\approx 2.27$')\n",
        "plt.legend(fontsize=14)\n",
        "plt.xticks(fontsize=16)\n",
        "plt.yticks(fontsize=16)\n",
        "plt.show()\n",
        "\n",
        "#mag_mean = [] # vetor para armazenar a magnetização média final obtida para cada temperatura\n",
        "#sist = cria_sistema(10) # define um sistema de spins 50x50\n"
      ],
      "metadata": {
        "colab": {
          "base_uri": "https://localhost:8080/",
          "height": 425
        },
        "id": "ZB0-NMfyoBKL",
        "outputId": "febc9f2f-717d-4cb0-c78d-a989eda61d20"
      },
      "execution_count": 21,
      "outputs": [
        {
          "output_type": "display_data",
          "data": {
            "text/plain": [
              "<Figure size 648x432 with 1 Axes>"
            ],
            "image/png": "[encoded data removed]"
          },
          "metadata": {
            "needs_background": "light"
          }
        }
      ]
    },
    {
      "cell_type": "code",
      "source": [
        "# Mesmo sistema, mas agora para diferentes campos magnéticos\n",
        "T = np.arange(0.5,6,0.1) # vetor de temperaturas\n",
        "eps = 1 # parâmetro de energia\n",
        "Nvar = 1000 # número de varreduras (pela metade para ganhar +tempo)\n",
        "h = np.arange(0,3,1) # vetor de parâmetros do campo magnético\n",
        "\n",
        "ax = plt.figure(figsize=(9,6))\n",
        "markers = ['o', '^', '*']\n",
        "colors = ['blue', 'orange', 'green']\n",
        "\n",
        "\n",
        "for i in range (len(h)): # para cada tamanho de sistema\n",
        "  sist = cria_sistema(10) # define um sistema randômico de spins\n",
        "  mag_mean = [] # vetor para armazenar a magnetização media final obtida para cada temperatura\n",
        "\n",
        "  for j in range(len(T)): # para cada temperatura\n",
        "    sist_aux = np.copy(sist) # cria uma cópia do sistema formado\n",
        "    mag = [] # vetor para armazenar a magnétização por sítio de cada iteração\n",
        "\n",
        "    mag.append(calcula_Mag(sist_aux)) # calcula a primeira magnetização por sítio\n",
        "    for k in range(Nvar): # para cada iteração\n",
        "      TESTE_atualiza_Metropolis(T[j], eps, h[i], sist_aux) # atualiza a matriz de spins\n",
        "      mag.append(calcula_Mag(sist_aux)) # calcula a magnetização por sítio\n",
        "    \n",
        "    mag_mean.append(np.abs(np.mean(mag))) # calcula a magnetização média total para a temperatura em questão\n",
        "  \n",
        "  ax = plt.scatter(T, mag_mean, linestyle='solid', marker=markers[i], label = 'h = {}'.format(h[i]) , color=colors[i], linewidth = 1)\n",
        "\n",
        "plt.title('Magnetização média por sítio em função da temperatura ', fontsize=20)\n",
        "plt.ylabel(r'$\\langle |m| \\rangle$', fontsize=18)\n",
        "plt.xlabel('$T$ [u.c.]', fontsize=18)\n",
        "plt.axvline(x = 2.27, color='red',linestyle='dashed', label=r'$T_c \\approx 2.27$')\n",
        "plt.legend(fontsize=14)\n",
        "plt.xticks(fontsize=16)\n",
        "plt.yticks(fontsize=16)\n",
        "plt.show()\n",
        "\n",
        "#mag_mean = [] # vetor para armazenar a magnetização média final obtida para cada temperatura\n",
        "#sist = cria_sistema(10) # define um sistema de spins 50x50\n"
      ],
      "metadata": {
        "colab": {
          "base_uri": "https://localhost:8080/",
          "height": 425
        },
        "id": "YIKLjgsnAzmQ",
        "outputId": "22ad1f16-03ef-44e6-9814-9adf8046a963"
      },
      "execution_count": null,
      "outputs": [
        {
          "output_type": "display_data",
          "data": {
            "text/plain": [
              "<Figure size 648x432 with 1 Axes>"
            ],
            "image/png": "[encoded data removed]"
          },
          "metadata": {
            "needs_background": "light"
          }
        }
      ]
    },
    {
      "cell_type": "markdown",
      "source": [
        "### Análise complementar: susceptibilidade magnética"
      ],
      "metadata": {
        "id": "RX4noRAR7eq8"
      }
    },
    {
      "cell_type": "code",
      "source": [
        "def derivada(fx, x, dx):\n",
        "  df = [] # vetor para guardar a derivada de f \n",
        "\n",
        "  for i in range(len(x)):\n",
        "    if i == 0:\n",
        "      deriv = (fx[i+1] - fx[i])/dx\n",
        "    elif i == len(x)-1:\n",
        "      deriv = (fx[i] - fx[i-1])/dx\n",
        "    else:\n",
        "      deriv = (fx[i+1] - fx[i-1])/(2*dx)\n",
        "    \n",
        "    df.append(deriv)\n",
        "  return df"
      ],
      "metadata": {
        "id": "CsXqO4NbTrYN"
      },
      "execution_count": 19,
      "outputs": []
    },
    {
      "cell_type": "code",
      "source": [
        "def derivada(fx, x, dx):\n",
        "  df = [] # vetor para guardar a derivada de f \n",
        "\n",
        "  for i in range(len(x)):\n",
        "    if i == 0:\n",
        "      deriv = (fx[i+1] - fx[i])/dx\n",
        "    elif i == len(x)-1:\n",
        "      deriv = (fx[i] - fx[i-1])/dx\n",
        "    else:\n",
        "      deriv = (fx[i+1] - fx[i-1])/(2*dx)\n",
        "    \n",
        "    df.append(deriv)\n",
        "  return df"
      ],
      "metadata": {
        "id": "UNQYc8iR7ZiZ"
      },
      "execution_count": null,
      "outputs": []
    },
    {
      "cell_type": "code",
      "source": [
        "# curva de susceptibilidade magnética\n",
        "\n",
        "sist = cria_sistema(10) # define um sistema 10x10\n",
        "eps = 1 # parâmetro de energia\n",
        "T = [1,3,5,10] # vetor de temperaturas do sistema\n",
        "dh = 0.05 # passo de campo magnético \n",
        "h = np.arange(-3, 3+dh, dh) # vetor de parâmetros de campo magnético\n",
        "colors=['blue', 'green', 'red', 'orange'] # vetor de cores\n",
        "markers=['s', '*', '^', 'o'] # vetor de marcadores\n",
        "Nvar = 1000 # número de iterações a cada cálculo de <m>\n",
        "\n",
        "ax = plt.figure(figsize=(9,6))\n",
        "\n",
        "for i in range(len(T)): # para cada temperatura\n",
        "  mag_mean = [] # vetor para guardar a média das magnetizações\n",
        "\n",
        "  for j in range(len(h)): # para cada campo magnético\n",
        "    sist_aux = np.copy(sist) # copia o sistema inicial de spins criado\n",
        "    mag = [] # vetor para armazenar a magnetização do sistema para cada varredura\n",
        "\n",
        "    mag.append(calcula_Mag(sist_aux)) # calcula a magnetização por sítico inicial do sistema criado\n",
        "    for k in range(Nvar): # para cada varredura\n",
        "      TESTE_atualiza_Metropolis(T[i], eps, h[j], sist_aux) # atualiza o sistema\n",
        "      mag.append(calcula_Mag(sist_aux)) # calcula a magnetização por sítio e guarda\n",
        "\n",
        "    mag_mean.append(np.mean(mag)) # armazena a magnetização média do sistema\n",
        "\n",
        "  # Apresenta o gráfico correspondente\n",
        "  ax = plt.plot(h, mag_mean, label=r'$T = {}$'.format(T[i]), color=colors[i], marker=markers[i])\n",
        "\n",
        "\n",
        "plt.title('Magnetização média por sítio em função do campo magnético ', fontsize=20)\n",
        "plt.ylabel(r'$\\langle m \\rangle$', fontsize=18)\n",
        "plt.xlabel('$h$ [u.c.]', fontsize=18)\n",
        "plt.xticks(fontsize=16)\n",
        "plt.yticks(fontsize=16)\n",
        "plt.legend(fontsize=14)\n",
        "#plt.ylim(-1,1)\n",
        "plt.show()"
      ],
      "metadata": {
        "colab": {
          "base_uri": "https://localhost:8080/",
          "height": 425
        },
        "id": "pi3iIJJyd9bu",
        "outputId": "6fd1469a-20c9-495c-f7a2-97cd662cf431"
      },
      "execution_count": null,
      "outputs": [
        {
          "output_type": "display_data",
          "data": {
            "text/plain": [
              "<Figure size 648x432 with 1 Axes>"
            ],
            "image/png": "[encoded data removed]"
          },
          "metadata": {
            "needs_background": "light"
          }
        }
      ]
    },
    {
      "cell_type": "code",
      "source": [
        "# susceptibilidade magnética\n",
        "sist = cria_sistema(10) # define um sistema 10x10\n",
        "eps = 1 # parâmetro de energia\n",
        "T = [1,3,5,10] # vetor de temperaturas do sistema\n",
        "dh = 0.05 # passo de campo magnético \n",
        "h = np.arange(-2, 2+dh, dh) # vetor de parâmetros de campo magnético\n",
        "colors=['blue', 'green', 'red', 'orange'] # vetor de cores\n",
        "markers=['s', '*', '^', 'o'] # vetor de marcadores\n",
        "Nvar = 1000 # número de iterações a cada cálculo de <m>\n",
        "\n",
        "ax = plt.figure(figsize=(9,6))\n",
        "\n",
        "for i in range(len(T)): # para cada temperatura\n",
        "  mag_mean = [] # vetor para guardar a média das magnetizações\n",
        "\n",
        "  for j in range(len(h)): # para cada campo magnético\n",
        "    sist_aux = np.copy(sist) # copia o sistema inicial de spins criado\n",
        "    mag = [] # vetor para armazenar a magnetização do sistema para cada varredura\n",
        "\n",
        "    mag.append(calcula_Mag(sist_aux)) # calcula a magnetização por sítico inicial do sistema criado\n",
        "    for k in range(Nvar): # para cada varredura\n",
        "      TESTE_atualiza_Metropolis(T[i], eps, h[j], sist_aux) # atualiza o sistema\n",
        "      mag.append(calcula_Mag(sist_aux)) # calcula a magnetização por sítio e guarda\n",
        "\n",
        "    mag_mean.append(np.mean(mag)) # armazena a magnetização média do sistema\n",
        "  x_m = derivada(mag_mean, h, dh)\n",
        "\n",
        "  # Apresenta o gráfico correspondente\n",
        "  if i > 0:\n",
        "    ax = plt.plot(h, x_m, label=r'$T = {}$'.format(T[i]), color=colors[i], marker=markers[i])\n",
        "\n",
        "plt.title('Susceptibilidade magnética', fontsize=20)\n",
        "plt.ylabel(r'$\\chi_M$', fontsize=18)\n",
        "plt.xlabel('$h$ [u.c.]', fontsize=18)\n",
        "plt.xticks(fontsize=16)\n",
        "plt.yticks(fontsize=16)\n",
        "plt.legend(fontsize=14)\n",
        "plt.show()"
      ],
      "metadata": {
        "colab": {
          "base_uri": "https://localhost:8080/",
          "height": 425
        },
        "id": "olvrfQbum-4D",
        "outputId": "c716c547-09ba-42e7-d276-07f35b4b788d"
      },
      "execution_count": null,
      "outputs": [
        {
          "output_type": "display_data",
          "data": {
            "text/plain": [
              "<Figure size 648x432 with 1 Axes>"
            ],
            "image/png": "[encoded data removed]"
          },
          "metadata": {
            "needs_background": "light"
          }
        }
      ]
    }
  ]
}